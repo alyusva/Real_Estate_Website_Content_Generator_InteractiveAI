{
 "cells": [
  {
   "cell_type": "markdown",
   "id": "39dc24a4",
   "metadata": {},
   "source": [
    "# Real Estate Content Generator - Demo Interactiva\n",
    "\n",
    "Este notebook permite probar de forma interactiva la generación de contenido HTML para anuncios inmobiliarios usando OpenAIGenerator, con soporte para varios idiomas y modos de entrada (JSON o formulario)."
   ]
  },
  {
   "cell_type": "code",
   "execution_count": 1,
   "id": "3921317b",
   "metadata": {},
   "outputs": [],
   "source": [
    "# Importar librerías necesarias\n",
    "import json\n",
    "import ipywidgets as widgets\n",
    "from IPython.display import display, HTML, clear_output\n",
    "from app.llm.openai_generator import OpenAIGenerator\n",
    "from app.schemas import PropertyInput\n",
    "from app.generator import generate_content"
   ]
  },
  {
   "cell_type": "code",
   "execution_count": 9,
   "id": "fd4e3535",
   "metadata": {},
   "outputs": [],
   "source": [
    "# Funciones para cargar y procesar el JSON\n",
    "\n",
    "def cargar_json(archivo):\n",
    "    try:\n",
    "        contenido = archivo[\"content\"]\n",
    "        if isinstance(contenido, memoryview):\n",
    "            contenido = contenido.tobytes().decode()\n",
    "        elif isinstance(contenido, bytes):\n",
    "            contenido = contenido.decode()\n",
    "        data = json.loads(contenido)\n",
    "        return data, \"\"\n",
    "    except Exception as e:\n",
    "        return None, f\"Error al cargar el JSON: {e}\"\n",
    "\n",
    "def validar_datos(data):\n",
    "    try:\n",
    "        property_input = PropertyInput(**data)\n",
    "        return property_input, \"\"\n",
    "    except Exception as e:\n",
    "        return None, f\"Error de validación: {e}\""
   ]
  },
  {
   "cell_type": "code",
   "execution_count": 3,
   "id": "b6c61d1e",
   "metadata": {},
   "outputs": [],
   "source": [
    "# Interfaz interactiva: modo JSON o formulario\n",
    "modo_input = widgets.ToggleButtons(\n",
    "    options=[('Subir JSON', 'json'), ('Formulario', 'form')],\n",
    "    value='json',\n",
    "    description='Modo de entrada:',\n",
    "    style={'description_width': 'initial'}\n",
    ")\n",
    "\n",
    "# Widget para subir JSON\n",
    "json_uploader = widgets.FileUpload(\n",
    "    accept='.json',\n",
    "    multiple=False,\n",
    "    description='Subir archivo JSON'\n",
    ")\n",
    "\n",
    "# Widgets para formulario manual\n",
    "form_titulo = widgets.Text(description='Título:', style={'description_width': 'initial'})\n",
    "form_ciudad = widgets.Text(description='Ciudad:')\n",
    "form_barrio = widgets.Text(description='Barrio:')\n",
    "form_bedrooms = widgets.BoundedIntText(description='Habitaciones:', min=0, max=20)\n",
    "form_bathrooms = widgets.BoundedIntText(description='Baños:', min=0, max=20)\n",
    "form_area = widgets.BoundedFloatText(description='Área (m²):', min=0)\n",
    "form_balcony = widgets.Checkbox(description='Balcón')\n",
    "form_parking = widgets.Checkbox(description='Parking')\n",
    "form_elevator = widgets.Checkbox(description='Ascensor')\n",
    "form_floor = widgets.BoundedIntText(description='Piso:', min=0, max=100)\n",
    "form_year = widgets.BoundedIntText(description='Año construcción:', min=1800, max=2100)\n",
    "form_price = widgets.BoundedFloatText(description='Precio (€):', min=0)\n",
    "form_listing = widgets.Dropdown(options=[('Venta', 'sale'), ('Alquiler', 'rent')], description='Tipo anuncio:')"
   ]
  },
  {
   "cell_type": "code",
   "execution_count": 4,
   "id": "804f6e40",
   "metadata": {},
   "outputs": [],
   "source": [
    "# Selector de idioma y modo de generación\n",
    "selector_idioma = widgets.Dropdown(\n",
    "    options=[('Español', 'es'), ('Inglés', 'en'), ('Portugués', 'pt')],\n",
    "    value='es',\n",
    "    description='Idioma:',\n",
    "    style={'description_width': 'initial'}\n",
    ")\n",
    "\n",
    "selector_modo = widgets.Dropdown(\n",
    "    options=[('Template', 'template'), ('OpenAI', 'openai'), ('Ollama', 'ollama')],\n",
    "    value='template',\n",
    "    description='Modo generación:',\n",
    "    style={'description_width': 'initial'}\n",
    ")"
   ]
  },
  {
   "cell_type": "code",
   "execution_count": 5,
   "id": "d36673c6",
   "metadata": {},
   "outputs": [],
   "source": [
    "# Función para generar el HTML usando el modo y los datos seleccionados\n",
    "def generar_html(data, modo, idioma):\n",
    "    import os\n",
    "    from app.config import settings\n",
    "    os.environ[\"GENERATION_MODE\"] = modo\n",
    "    settings.GENERATION_MODE = modo\n",
    "    data[\"language\"] = idioma\n",
    "    try:\n",
    "        property_input = PropertyInput(**data)\n",
    "        html = generate_content(property_input)\n",
    "        return html, \"\"\n",
    "    except Exception as e:\n",
    "        return \"\", f\"Error al generar el contenido: {e}\""
   ]
  },
  {
   "cell_type": "code",
   "execution_count": null,
   "id": "59f0e0e6",
   "metadata": {},
   "outputs": [
    {
     "data": {
      "application/vnd.jupyter.widget-view+json": {
       "model_id": "df13cd32d21e4a569fb50e4d2025caa3",
       "version_major": 2,
       "version_minor": 0
      },
      "text/plain": [
       "HBox(children=(ToggleButtons(description='Modo de entrada:', options=(('Subir JSON', 'json'), ('Formulario', '…"
      ]
     },
     "metadata": {},
     "output_type": "display_data"
    },
    {
     "data": {
      "application/vnd.jupyter.widget-view+json": {
       "model_id": "2406614d2ef2440caa40d4324279b836",
       "version_major": 2,
       "version_minor": 0
      },
      "text/plain": [
       "Button(button_style='success', description='Generar contenido', style=ButtonStyle())"
      ]
     },
     "metadata": {},
     "output_type": "display_data"
    },
    {
     "data": {
      "application/vnd.jupyter.widget-view+json": {
       "model_id": "1661a2d231ae47cf8432fac0bb75d7cf",
       "version_major": 2,
       "version_minor": 0
      },
      "text/plain": [
       "Output()"
      ]
     },
     "metadata": {},
     "output_type": "display_data"
    }
   ],
   "source": [
    "# Mostrar la UI interactiva y gestionar eventos\n",
    "def mostrar_interfaz():\n",
    "    out = widgets.Output()\n",
    "    \n",
    "    def on_generate_clicked(b):\n",
    "        with out:\n",
    "            clear_output()\n",
    "            # Obtener datos según modo\n",
    "            if modo_input.value == 'json':\n",
    "                if not json_uploader.value:\n",
    "                    print('Sube un archivo JSON válido.')\n",
    "                    return\n",
    "                archivo = json_uploader.value[0]\n",
    "                data, err = cargar_json(archivo)\n",
    "                if err:\n",
    "                    print(err)\n",
    "                    return\n",
    "            else:\n",
    "                data = {\n",
    "                    \"title\": form_titulo.value,\n",
    "                    \"location\": {\n",
    "                        \"city\": form_ciudad.value,\n",
    "                        \"neighborhood\": form_barrio.value\n",
    "                    },\n",
    "                    \"features\": {\n",
    "                        \"bedrooms\": form_bedrooms.value,\n",
    "                        \"bathrooms\": form_bathrooms.value,\n",
    "                        \"area_sqm\": form_area.value,\n",
    "                        \"balcony\": form_balcony.value,\n",
    "                        \"parking\": form_parking.value,\n",
    "                        \"elevator\": form_elevator.value,\n",
    "                        \"floor\": form_floor.value,\n",
    "                        \"year_built\": form_year.value\n",
    "                    },\n",
    "                    \"price\": form_price.value,\n",
    "                    \"listing_type\": form_listing.value,\n",
    "                    \"language\": selector_idioma.value\n",
    "                }\n",
    "            # Generar HTML\n",
    "            html, err = generar_html(data, selector_modo.value, selector_idioma.value)\n",
    "            if err:\n",
    "                print(err)\n",
    "                return\n",
    "            # Mostrar HTML como texto\n",
    "            print('HTML generado:')\n",
    "            print('-' * 40)\n",
    "            print(html)\n",
    "            print('-' * 40)\n",
    "            # Mostrar HTML renderizado\n",
    "            display(HTML('<h4>Vista renderizada:</h4>'))\n",
    "            display(HTML(html))\n",
    "    \n",
    "    # Contenedor para el formulario\n",
    "    form_box = widgets.VBox([\n",
    "        form_titulo, form_ciudad, form_barrio, form_bedrooms, form_bathrooms, form_area,\n",
    "        form_balcony, form_parking, form_elevator, form_floor, form_year, form_price, form_listing\n",
    "    ])\n",
    "    \n",
    "    # Función para mostrar el widget adecuado\n",
    "    def actualizar_entrada(change=None):\n",
    "        with out:\n",
    "            clear_output()\n",
    "            if modo_input.value == 'json':\n",
    "                display(json_uploader)\n",
    "            else:\n",
    "                display(form_box)\n",
    "    modo_input.observe(actualizar_entrada, names='value')\n",
    "    \n",
    "    boton_generar = widgets.Button(description='Generar contenido', button_style='success')\n",
    "    boton_generar.on_click(on_generate_clicked)\n",
    "    \n",
    "    # Mostrar la UI\n",
    "    display(widgets.HBox([modo_input, selector_idioma, selector_modo]))\n",
    "    actualizar_entrada()\n",
    "    display(boton_generar)\n",
    "    display(out)\n",
    "\n",
    "mostrar_interfaz()"
   ]
  }
 ],
 "metadata": {
  "kernelspec": {
   "display_name": "Python 3",
   "language": "python",
   "name": "python3"
  },
  "language_info": {
   "codemirror_mode": {
    "name": "ipython",
    "version": 3
   },
   "file_extension": ".py",
   "mimetype": "text/x-python",
   "name": "python",
   "nbconvert_exporter": "python",
   "pygments_lexer": "ipython3",
   "version": "3.11.12"
  }
 },
 "nbformat": 4,
 "nbformat_minor": 5
}
